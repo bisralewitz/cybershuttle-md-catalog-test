{
 "cells": [
  {
   "cell_type": "code",
   "execution_count": 1,
   "id": "d9f820f0-8c97-4ba8-82e4-1ce69fc299bf",
   "metadata": {},
   "outputs": [
    {
     "data": {
      "text/plain": [
       "2"
      ]
     },
     "execution_count": 1,
     "metadata": {},
     "output_type": "execute_result"
    }
   ],
   "source": [
    "1+1"
   ]
  },
  {
   "cell_type": "code",
   "execution_count": null,
   "id": "c8ad6cd5-4860-458e-a0c0-ea7e7901d31a",
   "metadata": {},
   "outputs": [],
   "source": [
    "%pip install -q --no-cache-dir --force-reinstall airavata-python-sdk[notebook]\n",
    "import airavata_jupyter_magic\n",
    "%authenticate\n",
    "%request_runtime cloud_cpu --file=cybershuttle.yml --walltime=60 --use=NeuroData25VC1:cloud,expanse:shared,anvil:shared\n",
    "%switch_runtime hpc_cpu"
   ]
  },
  {
   "cell_type": "code",
   "execution_count": null,
   "id": "7b90aa0f-8676-4f17-b209-92b002975e4f",
   "metadata": {},
   "outputs": [],
   "source": [
    "%request_runtime expanse_cpu --file=cybershuttle.yml --walltime=60 --use=NeuroData25VC1:cloud,expanse:shared\n",
    "%request_runtime delta_a100x4_cpu --file=cybershuttle.yml --walltime=60 --use=NCSA:gpu_a100x4:cloud,delta:shared"
   ]
  },
  {
   "cell_type": "markdown",
   "id": "d55ba5ba-e9e3-46c5-a59d-9af99fef0960",
   "metadata": {},
   "source": [
    "#Cybershuttle Jupyter magic\n",
    "Loadedairavata_jupyter_magic(2.1.4.post4) (current runtime = local)\n",
    " \n",
    "%authenticate -- Authenticate to access high-performance runtimes.\n",
    "%request_runtime<rt> [args] -- Request a runtime named <rt> with configuration <args>. Call multiple times to request multiple runtimes.\n",
    "%restart_runtime<rt> -- Restart runtime <rt> if it hangs. This will clear all variables.\n",
    "%stop_runtime<rt> -- Stop runtime <rt> when no longer needed.\n",
    "%wait_for_runtime<rt> --live Wait for runtime <rt> to be ready with active output.\n",
    "%switch_runtime<rt> -- Switch the active runtime to <rt>. All subsequent cells will run here.\n",
    "%%run_on<rt> -- Force a cell to always execute on <rt>, regardless of the active runtime.\n",
    "%stat_runtime<rt> -- Show the status of runtime <rt>.\n",
    "%copy_datasource=<r1:f1> target=<r2:f2> -- Copy <f1> in <r1> to <f2> in <r2>.\n",
    "%open_tunnels<tn> --forward=<ports> -- Open a TCP tunnel on the runtime.\n",
    "%close_tunnels<tn> -- Close a TCP tunnel opened on the runtime.\n",
    "%run_subprocess<pn>--command=<cmd> --forward=<ports> -- Start a subprocess on the runtime.\n",
    "%kill_subprocess<pn>-- Kill a subprocess started on the runtime.\n",
    " "
   ]
  },
  {
   "cell_type": "code",
   "execution_count": 3,
   "id": "2c1a215b-c771-4405-aaf2-0eaa3ae21e0e",
   "metadata": {},
   "outputs": [
    {
     "name": "stderr",
     "output_type": "stream",
     "text": [
      "UsageError: Cell magic `%%` not found.\n"
     ]
    }
   ],
   "source": [
    "%% bash\n",
    "date\n",
    "uname -a"
   ]
  },
  {
   "cell_type": "code",
   "execution_count": null,
   "id": "d2a442bf-c5c0-45b6-9a5f-0709497c1a46",
   "metadata": {},
   "outputs": [],
   "source": []
  }
 ],
 "metadata": {
  "kernelspec": {
   "display_name": "Python 3 (ipykernel)",
   "language": "python",
   "name": "python3"
  },
  "language_info": {
   "codemirror_mode": {
    "name": "ipython",
    "version": 3
   },
   "file_extension": ".py",
   "mimetype": "text/x-python",
   "name": "python",
   "nbconvert_exporter": "python",
   "pygments_lexer": "ipython3",
   "version": "3.12.5"
  }
 },
 "nbformat": 4,
 "nbformat_minor": 5
}
